{
 "cells": [
  {
   "cell_type": "code",
   "execution_count": null,
   "metadata": {},
   "outputs": [],
   "source": [
    "import boto3\n",
    "import sagemaker"
   ]
  },
  {
   "cell_type": "code",
   "execution_count": null,
   "metadata": {},
   "outputs": [],
   "source": [
    "role = 'arn:aws:iam::638608113287:role/service-role/AmazonSageMaker-ExecutionRole-20180731T132167'\n",
    "sess = sagemaker.Session()"
   ]
  },
  {
   "cell_type": "code",
   "execution_count": null,
   "metadata": {},
   "outputs": [],
   "source": [
    "account = sess.boto_session.client('sts').get_caller_identity()['Account']\n",
    "region = sess.boto_session.region_name"
   ]
  },
  {
   "cell_type": "code",
   "execution_count": null,
   "metadata": {},
   "outputs": [],
   "source": [
    "image = '638608113287.dkr.ecr.us-east-1.amazonaws.com/faster-rcnn:latest'\n",
    "train_instance_type = 'ml.p3.16xlarge'\n",
    "instance_count = 1\n",
    "output_path=\"s3://model-artifacts-alkymi/faster-rcnn/\"\n",
    "data_location = \"s3://training-data-alkymi/pageseg/2019-07-08_20:04:12.342294\"\n",
    "# data_location = \"s3://training-data-alkymi/pageseg/7\"\n",
    "hyperparameters = {\n",
    "  \"batch_size\": \"64\",\n",
    "  \"epochs\":\"100\",\n",
    "  \"lr\": \"0.0001\",\n",
    "  \"lr_decay_gamma\": \"0.1\",\n",
    "  \"lr_patience\": \"2\",\n",
    "  \"patience\": \"4\",\n",
    "  \"imdb_name\": \"pdfpages\",\n",
    "  \"num_workers\": \"8\",\n",
    "  \"USE_FLIPPED\": \"False\"\n",
    "}\n",
    "\n",
    "metric_definitions = [\n",
    "    {'Name': 'train loss', 'Regex': 'train loss: (.*?);'},\n",
    "    {'Name': 'train rpn_cls', 'Regex': 'train rpn_cls: (.*?);'},\n",
    "    {'Name': 'train rpn_box', 'Regex': 'train rpn_box: (.*?);'},\n",
    "    {'Name': 'train rcnn_cls', 'Regex': 'train rcnn_cls: (.*?);'},\n",
    "    {'Name': 'train rcnn_box', 'Regex': 'train rcnn_box: (.*?);'},\n",
    "    {'Name': 'val loss', 'Regex': 'val loss: (.*?);'},\n",
    "    {'Name': 'val rpn_cls', 'Regex': 'val rpn_cls: (.*?);'},\n",
    "    {'Name': 'val rpn_box', 'Regex': 'val rpn_box: (.*?);'},\n",
    "    {'Name': 'val rcnn_cls', 'Regex': 'val rcnn_cls: (.*?);'},\n",
    "    {'Name': 'val rcnn_box', 'Regex': 'val rcnn_box: (.*?);'}]"
   ]
  },
  {
   "cell_type": "code",
   "execution_count": null,
   "metadata": {},
   "outputs": [],
   "source": [
    "estimator = sagemaker.estimator.Estimator(image,\n",
    "                                          role, instance_count, train_instance_type,\n",
    "                                          output_path=output_path,\n",
    "                                          sagemaker_session=sess, \n",
    "                                          hyperparameters=hyperparameters,\n",
    "                                          metric_definitions=metric_definitions,\n",
    "                                          train_max_run=432000)"
   ]
  },
  {
   "cell_type": "code",
   "execution_count": null,
   "metadata": {
    "scrolled": true
   },
   "outputs": [],
   "source": [
    "estimator.fit(data_location)"
   ]
  },
  {
   "cell_type": "code",
   "execution_count": null,
   "metadata": {},
   "outputs": [],
   "source": [
    "training_job_name = ''\n",
    "sagemaker.estimator.Estimator.attach(training_job_name, sagemaker_session=sess)"
   ]
  },
  {
   "cell_type": "code",
   "execution_count": null,
   "metadata": {},
   "outputs": [],
   "source": [
    "deploy_instance_type = 'ml.p2.xlarge'\n",
    "predictor = estimator.deploy(initial_instance_count=1, instance_type=deploy_instance_type)"
   ]
  },
  {
   "cell_type": "code",
   "execution_count": null,
   "metadata": {},
   "outputs": [],
   "source": []
  }
 ],
 "metadata": {
  "kernelspec": {
   "display_name": "Python 3",
   "language": "python",
   "name": "python3"
  },
  "language_info": {
   "codemirror_mode": {
    "name": "ipython",
    "version": 3
   },
   "file_extension": ".py",
   "mimetype": "text/x-python",
   "name": "python",
   "nbconvert_exporter": "python",
   "pygments_lexer": "ipython3",
   "version": "3.7.3"
  }
 },
 "nbformat": 4,
 "nbformat_minor": 2
}
