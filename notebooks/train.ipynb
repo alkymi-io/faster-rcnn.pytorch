{
 "cells": [
  {
   "cell_type": "code",
   "execution_count": null,
   "metadata": {},
   "outputs": [],
   "source": [
    "import boto3\n",
    "import sagemaker"
   ]
  },
  {
   "cell_type": "code",
   "execution_count": null,
   "metadata": {},
   "outputs": [],
   "source": [
    "role = 'arn:aws:iam::638608113287:role/service-role/AmazonSageMaker-ExecutionRole-20180731T132167'\n",
    "sess = sagemaker.Session()"
   ]
  },
  {
   "cell_type": "code",
   "execution_count": null,
   "metadata": {},
   "outputs": [],
   "source": [
    "account = sess.boto_session.client('sts').get_caller_identity()['Account']\n",
    "region = sess.boto_session.region_name"
   ]
  },
  {
   "cell_type": "code",
   "execution_count": null,
   "metadata": {},
   "outputs": [],
   "source": [
    "image = '638608113287.dkr.ecr.us-east-1.amazonaws.com/faster-rcnn:gpu'\n",
    "train_instance_type = 'ml.p2.16xlarge'\n",
    "instance_count = 1\n",
    "output_path=\"s3://model-artifacts-alkymi/faster-rcnn/\"\n",
    "data_location = \"s3://training-data-alkymi/pageseg/20190226\"\n",
    "\n",
    "hyperparameters = {\n",
    "  \"batch_size\": \"64\",\n",
    "  \"epochs\":\"2\",\n",
    "  \"lr\": \"0.0001\",\n",
    "  \"lr_decay_gamma\": \"0.1\",\n",
    "  \"lr_patience\": \"2\",\n",
    "  \"patience\": \"4\",\n",
    "  \"imdb_name\": \"pdfpages\",\n",
    "  \"num_workers\": \"16\",\n",
    "  \"USE_FLIPPED\": \"False\"\n",
    "}"
   ]
  },
  {
   "cell_type": "code",
   "execution_count": null,
   "metadata": {},
   "outputs": [],
   "source": [
    "estimator = sagemaker.estimator.Estimator(image,\n",
    "                                          role, instance_count, train_instance_type,\n",
    "                                          output_path=output_path,\n",
    "                                          sagemaker_session=sess, \n",
    "                                          hyperparameters=hyperparameters)"
   ]
  },
  {
   "cell_type": "code",
   "execution_count": null,
   "metadata": {},
   "outputs": [],
   "source": [
    "estimator.fit(data_location)"
   ]
  },
  {
   "cell_type": "code",
   "execution_count": null,
   "metadata": {},
   "outputs": [],
   "source": [
    "deploy_instance_type = 'ml.p2.xlarge'\n",
    "predictor = estimator.deploy(initial_instance_count=1, instance_type=deploy_instance_type)"
   ]
  },
  {
   "cell_type": "code",
   "execution_count": null,
   "metadata": {},
   "outputs": [],
   "source": [
    "import requests\n",
    "import json\n",
    "from io import BytesIO\n",
    "from PIL import Image\n",
    "import matplotlib.pyplot as plt\n",
    "import matplotlib.patches as patches\n",
    "file_path = '../data/wf_celg_report.pdf'\n",
    "\n",
    "with open(file_path, 'rb') as f:\n",
    "    doc_data = f.read()\n",
    "params = {'page': 0}\n",
    "page_image_response = requests.get('https://pdf-service.alkymi.cloud/getPageImage', \n",
    "                                   params=params, data=doc_data)\n",
    "prediction_response = predictor.predict(page_image_response.content)\n",
    "pred = json.loads(prediction_response)['pred']\n",
    "img_bytes = BytesIO(page_image_response.content)\n",
    "img = Image.open(img_bytes)\n",
    "\n",
    "fig, ax = plt.subplots(figsize=(8.5, 11))\n",
    "plt.axis('off')\n",
    "\n",
    "box_type_to_color = {'text':'r', 'graphical_chart':'g', 'structured_data':'b'}\n",
    "for box_type, boxes in pred.items():\n",
    "    color = box_type_to_color[box_type]\n",
    "    for box in boxes:\n",
    "        rect = patches.Rectangle((float(box[0]), float(box[1])),\n",
    "                                 float(box[2]) - float(box[0]),\n",
    "                                 float(box[3]) - float(box[1]),\n",
    "                                 linewidth=1,\n",
    "                                 edgecolor=color,\n",
    "                                 facecolor='none')\n",
    "        ax.add_patch(rect)\n",
    "        ax.annotate(round(box[4], 3), \n",
    "                    (float(box[0]), float(box[1])), \n",
    "                    color=color, \n",
    "                    fontsize=12, ha='center', va='center')\n",
    "\n",
    "ax.imshow(img)\n"
   ]
  },
  {
   "cell_type": "code",
   "execution_count": null,
   "metadata": {},
   "outputs": [],
   "source": []
  }
 ],
 "metadata": {
  "kernelspec": {
   "display_name": "Python 3",
   "language": "python",
   "name": "python3"
  },
  "language_info": {
   "codemirror_mode": {
    "name": "ipython",
    "version": 3
   },
   "file_extension": ".py",
   "mimetype": "text/x-python",
   "name": "python",
   "nbconvert_exporter": "python",
   "pygments_lexer": "ipython3",
   "version": "3.6.5"
  }
 },
 "nbformat": 4,
 "nbformat_minor": 2
}
