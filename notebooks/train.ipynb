{
 "cells": [
  {
   "cell_type": "code",
   "execution_count": null,
   "metadata": {},
   "outputs": [],
   "source": [
    "import boto3\n",
    "import re\n",
    "import os\n",
    "import numpy as np\n",
    "import pandas as pd\n",
    "import sagemaker\n",
    "from time import gmtime, strftime"
   ]
  },
  {
   "cell_type": "code",
   "execution_count": null,
   "metadata": {},
   "outputs": [],
   "source": [
    "role = 'arn:aws:iam::638608113287:role/service-role/AmazonSageMaker-ExecutionRole-20180731T132167'\n",
    "sess = sagemaker.Session()"
   ]
  },
  {
   "cell_type": "code",
   "execution_count": null,
   "metadata": {},
   "outputs": [],
   "source": [
    "account = sess.boto_session.client('sts').get_caller_identity()['Account']\n",
    "region = sess.boto_session.region_name"
   ]
  },
  {
   "cell_type": "code",
   "execution_count": null,
   "metadata": {},
   "outputs": [],
   "source": [
    "image = '638608113287.dkr.ecr.us-east-1.amazonaws.com/faster-rcnn:gpu'\n",
    "instance_type = 'ml.p2.16xlarge'\n",
    "instance_count = 1\n",
    "output_path=\"s3://model-artifacts-alkymi/faster-rcnn/\"\n",
    "data_location = \"s3://training-data-alkymi/pageseg/20190226\"\n",
    "\n",
    "hyperparameters = {\n",
    "  \"batch_size\": \"64\",\n",
    "  \"epochs\":\"2\",\n",
    "  \"lr\": \"0.0001\",\n",
    "  \"lr_decay_gamma\": \"0.1\",\n",
    "  \"lr_patience\": \"2\",\n",
    "  \"patience\": \"4\",\n",
    "  \"imdb_name\": \"pdfpages\",\n",
    "  \"num_workers\": \"16\",\n",
    "  \"USE_FLIPPED\": \"False\"\n",
    "}"
   ]
  },
  {
   "cell_type": "code",
   "execution_count": null,
   "metadata": {},
   "outputs": [],
   "source": [
    "estimator = sagemaker.estimator.Estimator(image,\n",
    "                                          role, instance_count, instance_type,\n",
    "                                          output_path=output_path,\n",
    "                                          sagemaker_session=sess, \n",
    "                                          hyperparameters=hyperparameters)\n",
    "\n",
    "estimator.fit(data_location)"
   ]
  },
  {
   "cell_type": "code",
   "execution_count": null,
   "metadata": {},
   "outputs": [],
   "source": []
  }
 ],
 "metadata": {
  "kernelspec": {
   "display_name": "Python 3",
   "language": "python",
   "name": "python3"
  },
  "language_info": {
   "codemirror_mode": {
    "name": "ipython",
    "version": 3
   },
   "file_extension": ".py",
   "mimetype": "text/x-python",
   "name": "python",
   "nbconvert_exporter": "python",
   "pygments_lexer": "ipython3",
   "version": "3.6.5"
  }
 },
 "nbformat": 4,
 "nbformat_minor": 2
}
