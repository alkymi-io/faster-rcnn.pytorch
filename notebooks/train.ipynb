{
 "cells": [
  {
   "cell_type": "code",
   "execution_count": 1,
   "metadata": {},
   "outputs": [],
   "source": [
    "import boto3\n",
    "import sagemaker"
   ]
  },
  {
   "cell_type": "code",
   "execution_count": 2,
   "metadata": {},
   "outputs": [],
   "source": [
    "role = 'arn:aws:iam::638608113287:role/service-role/AmazonSageMaker-ExecutionRole-20180731T132167'\n",
    "sess = sagemaker.Session()"
   ]
  },
  {
   "cell_type": "code",
   "execution_count": null,
   "metadata": {},
   "outputs": [],
   "source": [
    "account = sess.boto_session.client('sts').get_caller_identity()['Account']\n",
    "region = sess.boto_session.region_name"
   ]
  },
  {
   "cell_type": "code",
   "execution_count": 3,
   "metadata": {},
   "outputs": [],
   "source": [
    "image = '638608113287.dkr.ecr.us-east-1.amazonaws.com/faster-rcnn:gpu'\n",
    "train_instance_type = 'ml.p2.16xlarge'\n",
    "instance_count = 1\n",
    "output_path=\"s3://model-artifacts-alkymi/faster-rcnn/\"\n",
    "data_location = \"s3://training-data-alkymi/pageseg/20190226\"\n",
    "\n",
    "hyperparameters = {\n",
    "  \"batch_size\": \"64\",\n",
    "  \"epochs\":\"2\",\n",
    "  \"lr\": \"0.0001\",\n",
    "  \"lr_decay_gamma\": \"0.1\",\n",
    "  \"lr_patience\": \"2\",\n",
    "  \"patience\": \"4\",\n",
    "  \"imdb_name\": \"pdfpages\",\n",
    "  \"num_workers\": \"16\",\n",
    "  \"USE_FLIPPED\": \"False\"\n",
    "}"
   ]
  },
  {
   "cell_type": "code",
   "execution_count": 6,
   "metadata": {},
   "outputs": [],
   "source": [
    "estimator = sagemaker.estimator.Estimator(image,\n",
    "                                          role, instance_count, train_instance_type,\n",
    "                                          output_path=output_path,\n",
    "                                          sagemaker_session=sess, \n",
    "                                          hyperparameters=hyperparameters)"
   ]
  },
  {
   "cell_type": "code",
   "execution_count": 7,
   "metadata": {},
   "outputs": [
    {
     "name": "stderr",
     "output_type": "stream",
     "text": [
      "INFO:sagemaker:Creating training-job with name: faster-rcnn-2019-03-15-18-57-16-186\n"
     ]
    },
    {
     "name": "stdout",
     "output_type": "stream",
     "text": [
      "2019-03-15 18:57:16 Starting - Starting the training job...\n",
      "2019-03-15 18:57:18 Starting - Launching requested ML instances.........\n",
      "2019-03-15 18:58:55 Starting - Preparing the instances for training............\n",
      "2019-03-15 19:01:19 Downloading - Downloading input data\n",
      "2019-03-15 19:01:19 Training - Downloading the training image........\n",
      "\u001b[31mStarting the training.\u001b[0m\n",
      "\u001b[31mhyperparameters: {'imdb_name': 'pdfpages', 'batch_size': '64', 'lr_patience': '2', 'USE_FLIPPED': 'False', 'lr': '0.0001', 'patience': '4', 'num_workers': '16', 'epochs': '2', 'lr_decay_gamma': '0.1'}\u001b[0m\n",
      "\u001b[31mLoaded dataset `pdfpages_train` for training\u001b[0m\n",
      "\u001b[31mSet proposal method: gt\u001b[0m\n",
      "\u001b[31mPreparing training data...\u001b[0m\n",
      "\u001b[31mdone\u001b[0m\n",
      "\u001b[31mbefore filtering, there are 910 images...\u001b[0m\n",
      "\u001b[31mafter filtering, there are 910 images...\u001b[0m\n",
      "\u001b[31mLoaded dataset `pdfpages_validation` for training\u001b[0m\n",
      "\u001b[31mSet proposal method: gt\u001b[0m\n",
      "\u001b[31mPreparing training data...\u001b[0m\n",
      "\u001b[31mdone\u001b[0m\n",
      "\u001b[31mLoading pretrained weights from /opt/program/data/pretrained_model/resnet101_caffe.pth\u001b[0m\n",
      "\n",
      "2019-03-15 19:02:26 Training - Training image download completed. Training in progress.\u001b[31m[epoch  0] train loss: 2.0514; lr: 1.00e-04;\u001b[0m\n",
      "\u001b[31m#011#011#011train time: 139.498292;\u001b[0m\n",
      "\u001b[31m#011#011#011train rpn_cls: 0.4663; train rpn_box: 0.4508; train rcnn_cls: 0.7662; train rcnn_box 0.3682;\u001b[0m\n",
      "\u001b[31m[epoch  0] val loss: 1.7470; lr: 1.00e-04;\u001b[0m\n",
      "\u001b[31m#011#011#011val time: 14.875061;\u001b[0m\n",
      "\u001b[31m#011#011#011val rpn_cls: 0.3902; val rpn_box: 0.4213; val rcnn_cls: 0.5567; val rcnn_box 0.3788;\u001b[0m\n",
      "\u001b[31mval loss improved from 10000.0000 to 1.7470\u001b[0m\n",
      "\u001b[31msaved model file: /opt/ml/model/faster-rcnn.pt\u001b[0m\n",
      "\u001b[31mmodel file size: 565400017\u001b[0m\n",
      "\u001b[31m[epoch  1] train loss: 1.6919; lr: 1.00e-04;\u001b[0m\n",
      "\u001b[31m#011#011#011train time: 73.132826;\u001b[0m\n",
      "\u001b[31m#011#011#011train rpn_cls: 0.3789; train rpn_box: 0.3806; train rcnn_cls: 0.5416; train rcnn_box 0.3909;\u001b[0m\n",
      "\u001b[31m[epoch  1] val loss: 1.6132; lr: 1.00e-04;\u001b[0m\n",
      "\u001b[31m#011#011#011val time: 17.604151;\u001b[0m\n",
      "\u001b[31m#011#011#011val rpn_cls: 0.3306; val rpn_box: 0.3752; val rcnn_cls: 0.4953; val rcnn_box 0.4120;\u001b[0m\n",
      "\u001b[31mval loss improved from 1.7470 to 1.6132\u001b[0m\n",
      "\u001b[31msaved model file: /opt/ml/model/faster-rcnn.pt\u001b[0m\n",
      "\u001b[31mmodel file size: 565400017\u001b[0m\n",
      "\n",
      "2019-03-15 19:07:30 Uploading - Uploading generated training model\n",
      "2019-03-15 19:08:46 Completed - Training job completed\n",
      "Billable seconds: 469\n"
     ]
    }
   ],
   "source": [
    "estimator.fit(data_location)"
   ]
  },
  {
   "cell_type": "code",
   "execution_count": 8,
   "metadata": {},
   "outputs": [
    {
     "name": "stderr",
     "output_type": "stream",
     "text": [
      "INFO:sagemaker:Creating model with name: faster-rcnn-2019-03-15-19-10-38-788\n",
      "INFO:sagemaker:Creating endpoint with name faster-rcnn-2019-03-15-18-57-16-186\n"
     ]
    },
    {
     "name": "stdout",
     "output_type": "stream",
     "text": [
      "---------------------------------------------------------------------------------------------------!"
     ]
    }
   ],
   "source": [
    "deploy_instance_type = 'ml.p2.xlarge'\n",
    "predictor = estimator.deploy(initial_instance_count=1, instance_type=deploy_instance_type)"
   ]
  },
  {
   "cell_type": "code",
   "execution_count": 21,
   "metadata": {},
   "outputs": [],
   "source": [
    "import requests\n",
    "import json\n",
    "from io import BytesIO\n",
    "from PIL import Image\n",
    "import matplotlib.pyplot as plt\n",
    "import matplotlib.patches as patches\n",
    "\n",
    "file_path = '../data/wf_celg_report.pdf'\n",
    "\n",
    "with open(file_path, 'rb') as f:\n",
    "    doc_data = f.read()\n",
    "params = {'page': 0}\n",
    "page_image_response = requests.get('https://pdf-service.alkymi.cloud/getPageImage', \n",
    "                                   params=params, data=doc_data)\n",
    "prediction_response = predictor.predict(page_image_response.content)\n",
    "pred = json.loads(prediction_response)['pred']\n",
    "img_bytes = BytesIO(page_image_response.content)\n",
    "img = Image.open(img_bytes)\n",
    "\n",
    "fig, ax = plt.subplots(figsize=(8.5, 11))\n",
    "plt.axis('off')\n",
    "\n",
    "ax.imshow(img)\n",
    "box_type_to_color = {'text':'r', 'graphical_chart':'g', 'structured_data':'b'}\n",
    "for box_type, boxes in pred.items():\n",
    "    color = box_type_to_color[box_type]\n",
    "    for box in boxes:\n",
    "        rect = patches.Rectangle((float(box[0]), float(box[1])),\n",
    "                                 float(box[2]) - float(box[0]),\n",
    "                                 float(box[3]) - float(box[1]),\n",
    "                                 linewidth=1,\n",
    "                                 edgecolor=color,\n",
    "                                 facecolor='none')\n",
    "        ax.add_patch(rect)\n",
    "        ax.annotate(round(box[4], 3), \n",
    "                    (float(box[0]), float(box[1])), \n",
    "                    color=color, \n",
    "                    fontsize=12, ha='center', va='center')\n",
    "\n",
    "plt.close(fig)"
   ]
  },
  {
   "cell_type": "code",
   "execution_count": null,
   "metadata": {},
   "outputs": [],
   "source": []
  }
 ],
 "metadata": {
  "kernelspec": {
   "display_name": "Python 3",
   "language": "python",
   "name": "python3"
  },
  "language_info": {
   "codemirror_mode": {
    "name": "ipython",
    "version": 3
   },
   "file_extension": ".py",
   "mimetype": "text/x-python",
   "name": "python",
   "nbconvert_exporter": "python",
   "pygments_lexer": "ipython3",
   "version": "3.6.5"
  }
 },
 "nbformat": 4,
 "nbformat_minor": 2
}
