{
 "cells": [
  {
   "cell_type": "code",
   "execution_count": null,
   "metadata": {},
   "outputs": [],
   "source": [
    "import boto3\n",
    "import sagemaker\n",
    "import json\n",
    "from urllib.parse import urlparse\n",
    "import time"
   ]
  },
  {
   "cell_type": "code",
   "execution_count": null,
   "metadata": {},
   "outputs": [],
   "source": [
    "input_bucket_name = 'training-data-alkymi'\n",
    "validation_folder = f'pageseg/5/validation'\n",
    "annotation_folder = f'pageseg/5/validation_annotation'\n",
    "\n",
    "output_bucket = 'batch-transform-results'\n",
    "batch_job_name = \"notebook-batch-transform6\"\n",
    "output_location = f's3://{output_bucket}/{batch_job_name}'\n",
    "\n",
    "model_name = 'faster-rcnn-2019-03-06-4-4'\n",
    "instance_count = 20"
   ]
  },
  {
   "cell_type": "code",
   "execution_count": null,
   "metadata": {},
   "outputs": [],
   "source": [
    "# Create a transform job\n",
    "sm = boto3.client('sagemaker')\n",
    "s3 = boto3.client('s3')"
   ]
  },
  {
   "cell_type": "code",
   "execution_count": null,
   "metadata": {},
   "outputs": [],
   "source": [
    "request = \\\n",
    "{\n",
    "    \"TransformJobName\": batch_job_name,\n",
    "    \"ModelName\": model_name,\n",
    "#     \"MaxConcurrentTransforms\": 4,\n",
    "    \"MaxPayloadInMB\": 6,\n",
    "    \"BatchStrategy\": \"SingleRecord\",\n",
    "    \"TransformOutput\": {\n",
    "        \"S3OutputPath\": output_location\n",
    "    },\n",
    "    \"TransformInput\": {\n",
    "        \"DataSource\": {\n",
    "            \"S3DataSource\": {\n",
    "                \"S3DataType\": \"S3Prefix\",\n",
    "                \"S3Uri\": validation_location \n",
    "            }\n",
    "        },\n",
    "        \"ContentType\": \"image/png\",\n",
    "#         \"SplitType\": \"Line\",\n",
    "#         \"CompressionType\": \"None\"\n",
    "    },\n",
    "    \"TransformResources\": {\n",
    "            \"InstanceType\": \"ml.m4.2xlarge\",\n",
    "            \"InstanceCount\": instance_count\n",
    "    }\n",
    "}"
   ]
  },
  {
   "cell_type": "code",
   "execution_count": null,
   "metadata": {},
   "outputs": [],
   "source": [
    "sm.create_transform_job(**request)\n",
    "print(\"Created Transform job with name: \", batch_job_name)"
   ]
  },
  {
   "cell_type": "code",
   "execution_count": null,
   "metadata": {},
   "outputs": [],
   "source": [
    "### Wait until the job finishes\n",
    "while(True):\n",
    "    response = sm.describe_transform_job(TransformJobName=batch_job_name)\n",
    "    status = response['TransformJobStatus']\n",
    "    if  status == 'Completed':\n",
    "        print(\"Transform job ended with status: \" + status)\n",
    "        break\n",
    "    if status == 'Failed':\n",
    "        message = response['FailureReason']\n",
    "        print('Transform failed with the following error: {}'.format(message))\n",
    "        raise Exception('Transform job failed') \n",
    "    print(\"Transform job is in status: \" + status)    \n",
    "    time.sleep(30)    "
   ]
  },
  {
   "cell_type": "code",
   "execution_count": null,
   "metadata": {},
   "outputs": [],
   "source": [
    "s3 = boto3.resource('s3')\n",
    "output_bucket = s3.Bucket(output_bucket)\n",
    "results = {obj.key: json.loads(obj.get()['Body'].read().decode('utf-8'))['pred'] \n",
    "           for obj in output_bucket.objects.all() \n",
    "           if batch_job_name in obj.key}"
   ]
  },
  {
   "cell_type": "code",
   "execution_count": null,
   "metadata": {},
   "outputs": [],
   "source": [
    "# s3 = boto3.resource('s3')\n",
    "# input_bucket = s3.Bucket(input_bucket_name)\n",
    "for key in results.keys():\n",
    "    m = re.search(r\"/(.*).png\", key)\n",
    "    file_base = m.groups()[0]\n",
    "    annotation_file_key  = f'{annotation_folder}/{file_base}.xml'\n",
    "    obj = s3.get_object(Bucket=input_bucket_name, Key=annotation_file_key )\n",
    "    xml_annotation = obj['Body'].read().decode('utf-8')\n",
    "    break"
   ]
  },
  {
   "cell_type": "code",
   "execution_count": null,
   "metadata": {},
   "outputs": [],
   "source": [
    "### Fetch the transform output\n",
    "output_key = \"{}/valid_data.csv.out\".format(urlparse(output_location).path.lstrip('/'))\n",
    "s3_client.download_file(bucket, output_key, 'valid-result')\n",
    "with open('valid-result') as f:\n",
    "    results = f.readlines()   \n",
    "print(\"Sample transform result: {}\".format(results[0]))"
   ]
  }
 ],
 "metadata": {
  "kernelspec": {
   "display_name": "Python 3",
   "language": "python",
   "name": "python3"
  },
  "language_info": {
   "codemirror_mode": {
    "name": "ipython",
    "version": 3
   },
   "file_extension": ".py",
   "mimetype": "text/x-python",
   "name": "python",
   "nbconvert_exporter": "python",
   "pygments_lexer": "ipython3",
   "version": "3.6.5"
  }
 },
 "nbformat": 4,
 "nbformat_minor": 2
}
