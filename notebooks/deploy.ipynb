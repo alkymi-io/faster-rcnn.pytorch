{
 "cells": [
  {
   "cell_type": "code",
   "execution_count": 2,
   "metadata": {},
   "outputs": [],
   "source": [
    "import boto3\n",
    "import time"
   ]
  },
  {
   "cell_type": "code",
   "execution_count": 3,
   "metadata": {},
   "outputs": [],
   "source": [
    "role = 'arn:aws:iam::638608113287:role/service-role/AmazonSageMaker-ExecutionRole-20180731T132167'\n",
    "client = boto3.client('sagemaker')"
   ]
  },
  {
   "cell_type": "code",
   "execution_count": 4,
   "metadata": {
    "scrolled": true
   },
   "outputs": [],
   "source": [
    "training_job_name = 'faster-rcnn-align-2019-07-29'\n",
    "\n",
    "info = client.describe_training_job(TrainingJobName=training_job_name)\n",
    "model_data_url = info['ModelArtifacts']['S3ModelArtifacts']\n",
    "# image = info['AlgorithmSpecification']['TrainingImage'] # or inference image\n",
    "image = '638608113287.dkr.ecr.us-east-1.amazonaws.com/faster-rcnn:1.0-align'\n",
    "model_name = training_job_name"
   ]
  },
  {
   "cell_type": "code",
   "execution_count": 5,
   "metadata": {},
   "outputs": [
    {
     "name": "stdout",
     "output_type": "stream",
     "text": [
      "arn:aws:sagemaker:us-east-1:638608113287:model/faster-rcnn-align-2019-07-29\n"
     ]
    }
   ],
   "source": [
    "# Create the model\n",
    "\n",
    "primary_container = {\n",
    "    'Image': image,\n",
    "    'ModelDataUrl': model_data_url\n",
    "}\n",
    "\n",
    "create_model_response = client.create_model(\n",
    "    ModelName = model_name,\n",
    "    ExecutionRoleArn = role,\n",
    "    PrimaryContainer = primary_container)\n",
    "\n",
    "print(create_model_response['ModelArn'])"
   ]
  },
  {
   "cell_type": "code",
   "execution_count": 5,
   "metadata": {},
   "outputs": [
    {
     "name": "stdout",
     "output_type": "stream",
     "text": [
      "faster-rcnn-align-2019-07-29-2019-07-31-15-25-38\n",
      "Endpoint Config Arn: arn:aws:sagemaker:us-east-1:638608113287:endpoint-config/faster-rcnn-align-2019-07-29-2019-07-31-15-25-38\n"
     ]
    }
   ],
   "source": [
    "# Create endpoint config\n",
    "\n",
    "instance_type = 'ml.p2.xlarge'\n",
    "instance_count = 1\n",
    "\n",
    "endpoint_config_name = f'{training_job_name}-' + time.strftime(\"%Y-%m-%d-%H-%M-%S\", time.gmtime())\n",
    "print(endpoint_config_name)\n",
    "\n",
    "create_endpoint_config_response = client.create_endpoint_config(\n",
    "    EndpointConfigName = endpoint_config_name,\n",
    "    ProductionVariants=[{\n",
    "        'InstanceType': instance_type,\n",
    "        'InitialInstanceCount': instance_count,\n",
    "        'ModelName':model_name,\n",
    "        'VariantName':'AllTraffic'}])\n",
    "\n",
    "print(\"Endpoint Config Arn: \" + create_endpoint_config_response['EndpointConfigArn'])"
   ]
  },
  {
   "cell_type": "code",
   "execution_count": null,
   "metadata": {},
   "outputs": [],
   "source": [
    "# Create endpoint\n",
    "\n",
    "endpoint_name = f'{training_job_name}-' + time.strftime(\"%Y-%m-%d-%H-%M-%S\", time.gmtime())\n",
    "print(endpoint_name)\n",
    "\n",
    "create_endpoint_response = client.create_endpoint(\n",
    "    EndpointName=endpoint_name,\n",
    "    EndpointConfigName=endpoint_config_name)\n",
    "print(create_endpoint_response['EndpointArn'])\n",
    "\n",
    "resp = client.describe_endpoint(EndpointName=endpoint_name)\n",
    "status = resp['EndpointStatus']\n",
    "print(\"Status: \" + status)\n",
    "\n",
    "try:\n",
    "    client.get_waiter('endpoint_in_service').wait(EndpointName=endpoint_name)\n",
    "finally:\n",
    "    resp = client.describe_endpoint(EndpointName=endpoint_name)\n",
    "    status = resp['EndpointStatus']\n",
    "    print(\"Arn: \" + resp['EndpointArn'])\n",
    "    print(\"Create endpoint ended with status: \" + status)\n",
    "\n",
    "    if status != 'InService':\n",
    "        message = client.describe_endpoint(EndpointName=endpoint_name)['FailureReason']\n",
    "        print('Create endpoint failed with the following error: {}'.format(message))\n",
    "        raise Exception('Endpoint creation did not succeed')"
   ]
  },
  {
   "cell_type": "code",
   "execution_count": null,
   "metadata": {},
   "outputs": [],
   "source": [
    "import requests\n",
    "import json\n",
    "from io import BytesIO\n",
    "from PIL import Image\n",
    "import matplotlib.pyplot as plt\n",
    "import matplotlib.patches as patches\n",
    "import sagemaker\n",
    "\n",
    "predictor = sagemaker.RealTimePredictor(endpoint_name)\n",
    "\n",
    "file_path = '../data/wf_celg_report.pdf'\n",
    "\n",
    "with open(file_path, 'rb') as f:\n",
    "    doc_data = f.read()\n",
    "params = {'page': 0}\n",
    "page_image_response = requests.get('https://pdf-service.alkymi.cloud/getPageImage', \n",
    "                                   params=params, data=doc_data)\n",
    "prediction_response = predictor.predict(page_image_response.content)\n",
    "pred = json.loads(prediction_response)['pred']\n",
    "img_bytes = BytesIO(page_image_response.content)\n",
    "img = Image.open(img_bytes)\n",
    "\n",
    "fig, ax = plt.subplots(figsize=(8.5, 11))\n",
    "plt.axis('off')\n",
    "\n",
    "box_type_to_color = {'text':'r', 'graphical_chart':'g', 'structured_data':'b'}\n",
    "for box_type, boxes in pred.items():\n",
    "    color = box_type_to_color[box_type]\n",
    "    for box in boxes:\n",
    "        rect = patches.Rectangle((float(box[0]), float(box[1])),\n",
    "                                 float(box[2]) - float(box[0]),\n",
    "                                 float(box[3]) - float(box[1]),\n",
    "                                 linewidth=1,\n",
    "                                 edgecolor=color,\n",
    "                                 facecolor='none')\n",
    "        ax.add_patch(rect)\n",
    "        ax.annotate(round(box[4], 3), \n",
    "                    (float(box[0]), float(box[1])), \n",
    "                    color=color, \n",
    "                    fontsize=12, ha='center', va='center')\n",
    "\n",
    "ax.imshow(img)"
   ]
  },
  {
   "cell_type": "code",
   "execution_count": null,
   "metadata": {},
   "outputs": [],
   "source": []
  }
 ],
 "metadata": {
  "kernelspec": {
   "display_name": "Python 3",
   "language": "python",
   "name": "python3"
  },
  "language_info": {
   "codemirror_mode": {
    "name": "ipython",
    "version": 3
   },
   "file_extension": ".py",
   "mimetype": "text/x-python",
   "name": "python",
   "nbconvert_exporter": "python",
   "pygments_lexer": "ipython3",
   "version": "3.7.3"
  }
 },
 "nbformat": 4,
 "nbformat_minor": 2
}
